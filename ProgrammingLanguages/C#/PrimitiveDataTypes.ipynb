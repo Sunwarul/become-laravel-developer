{
 "cells": [
  {
   "cell_type": "code",
   "execution_count": null,
   "metadata": {
    "dotnet_interactive": {
     "language": "csharp"
    }
   },
   "outputs": [
    {
     "data": {
      "text/plain": [
       "Hi\r\n"
      ]
     },
     "output_type": "unknown"
    }
   ],
   "source": [
    "using System;\r\n",
    "\r\n",
    "int x = 10;\r\n",
    "\r\n",
    "Console.WriteLine(\"Hi\");"
   ]
  }
 ],
 "metadata": {
  "kernelspec": {
   "display_name": ".NET (C#)",
   "language": "C#",
   "name": ".net-csharp"
  },
  "language_info": {
   "name": "C#"
  }
 },
 "nbformat": 4,
 "nbformat_minor": 2
}